{
  "nbformat": 4,
  "nbformat_minor": 0,
  "metadata": {
    "colab": {
      "name": "_Copy_Drive_Folder.ipynb",
      "provenance": [],
      "collapsed_sections": []
    },
    "kernelspec": {
      "name": "python3",
      "display_name": "Python 3"
    }
  },
  "cells": [
    {
      "cell_type": "markdown",
      "metadata": {
        "id": "7wOyBO55bwy6"
      },
      "source": [
        "**Copy File or Folder from \"Shared with me\"**"
      ]
    },
    {
      "cell_type": "code",
      "metadata": {
        "id": "D7Sa5Ytpo4B7"
      },
      "source": [
        "# Mount drive to colab \n",
        "from google.colab import drive\n",
        "import os\n",
        "drive.mount('/content/drive')\n",
        "# Create new folder for copying\n",
        "!mkdir -p \"/content/drive/Shareddrives/plekih/_Copy_Drive_Folder/\"\n",
        "!chmod 755 \"/content/drive/Shareddrives/plekih/_Copy_Drive_Folder\"\n",
        "!ls -al \"/content/drive/Shareddrives/plekih/_Copy_Drive_Folder\""
      ],
      "execution_count": null,
      "outputs": []
    },
    {
      "cell_type": "code",
      "metadata": {
        "id": "MzZvQoQT1_HT"
      },
      "source": [
        "# [Important] Paste the Shared Folder shortcut name under _Copy_Drive_Folder directory\n",
        "os.environ['TARGET'] = \"Shared Folder Shortcut or File Shortcut name\"\n",
        "!echo ${TARGET}"
      ],
      "execution_count": null,
      "outputs": []
    },
    {
      "cell_type": "code",
      "metadata": {
        "id": "iaZHHCSEpEve"
      },
      "source": [
        "# Start Copying\n",
        "!mkdir -p \"/content/drive/Shareddrives/plekih/_Copy_Drive_Folder/${TARGET}_copy\"\n",
        "!cp -r \"$(readlink -f \"/content/drive/Shareddrives/plekih/_Copy_Drive_Folder/${TARGET}\")\" \"/content/drive/Shareddrives/plekih/_Copy_Drive_Folder/${TARGET}_copy\""
      ],
      "execution_count": 17,
      "outputs": []
    }
  ]
}
